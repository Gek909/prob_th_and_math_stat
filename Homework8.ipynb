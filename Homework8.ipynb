{
 "cells": [
  {
   "cell_type": "code",
   "execution_count": 32,
   "id": "a5054d13",
   "metadata": {},
   "outputs": [],
   "source": [
    "import numpy as np\n",
    "from scipy import stats\n",
    "import pandas as pd\n"
   ]
  },
  {
   "cell_type": "markdown",
   "id": "a55a0f8e",
   "metadata": {},
   "source": [
    "# Задача 1\n",
    "Даны значения величины заработной платы заемщиков банка (zp) и значения их поведенческого кредитного скоринга (ks):\n",
    "\n",
    "zp = [35, 45, 190, 200, 40, 70, 54, 150, 120, 110],\n",
    "\n",
    "ks = [401, 574, 874, 919, 459, 739, 653, 902, 746, 832].\n",
    "\n",
    "Найдите ковариацию этих двух величин с помощью элементарных действий, а затем с помощью функции cov из numpy\n",
    "\n",
    "Полученные значения должны быть равны.\n",
    "\n",
    "Найдите коэффициент корреляции Пирсона с помощью ковариации и среднеквадратичных отклонений двух признаков, а затем с использованием функций из библиотек numpy и pandas."
   ]
  },
  {
   "cell_type": "code",
   "execution_count": 33,
   "id": "f671d1f9",
   "metadata": {},
   "outputs": [
    {
     "name": "stdout",
     "output_type": "stream",
     "text": [
      "9157.839999999997\n"
     ]
    },
    {
     "data": {
      "text/plain": [
       "array([[ 3494.64,  9157.84],\n",
       "       [ 9157.84, 30468.89]])"
      ]
     },
     "execution_count": 33,
     "metadata": {},
     "output_type": "execute_result"
    }
   ],
   "source": [
    "zp = np.array([35, 45, 190, 200, 40, 70, 54, 150, 120, 110])\n",
    "\n",
    "ks = np.array([401, 574, 874, 919, 459, 739, 653, 902, 746, 832])\n",
    "\n",
    "# cov = M(XY) - M(X) * M(Y)\n",
    "cov = np.mean(zp*ks) - np.mean(zp) * np.mean(ks)\n",
    "print(cov)\n",
    "np.cov(zp, ks, ddof = 0)"
   ]
  },
  {
   "cell_type": "code",
   "execution_count": 34,
   "id": "815e3bbf",
   "metadata": {},
   "outputs": [
    {
     "name": "stdout",
     "output_type": "stream",
     "text": [
      "0.8874900920739158\n"
     ]
    },
    {
     "data": {
      "text/plain": [
       "array([[1.        , 0.88749009],\n",
       "       [0.88749009, 1.        ]])"
      ]
     },
     "execution_count": 34,
     "metadata": {},
     "output_type": "execute_result"
    }
   ],
   "source": [
    "r = cov / (np.std(zp) * np.std(ks))\n",
    "print(r)\n",
    "np.corrcoef(zp, ks)"
   ]
  },
  {
   "cell_type": "markdown",
   "id": "69ca9dfa",
   "metadata": {},
   "source": [
    "# Pandas"
   ]
  },
  {
   "cell_type": "code",
   "execution_count": 35,
   "id": "6cb0abc5",
   "metadata": {},
   "outputs": [
    {
     "data": {
      "text/plain": [
       "0.8874900920739163"
      ]
     },
     "execution_count": 35,
     "metadata": {},
     "output_type": "execute_result"
    }
   ],
   "source": [
    "df = pd.DataFrame({'zp': [35, 45, 190, 200, 40, 70, 54, 150, 120, 110],\n",
    "                   'ks': [401, 574, 874, 919, 459, 739, 653, 902, 746, 832]})\n",
    "df['zp']. corr(df['ks'])"
   ]
  },
  {
   "cell_type": "markdown",
   "id": "20236c5f",
   "metadata": {},
   "source": [
    "# Задача 2\n",
    "Измерены значения IQ выборки студентов,\n",
    "\n",
    "обучающихся в местных технических вузах:\n",
    "\n",
    "131, 125, 115, 122, 131, 115, 107, 99, 125, 111.\n",
    "\n",
    "Известно, что в генеральной совокупности IQ распределен нормально.\n",
    "\n",
    "Найдите доверительный интервал для математического ожидания с надежностью 0.95."
   ]
  },
  {
   "cell_type": "code",
   "execution_count": 36,
   "id": "b5b3032c",
   "metadata": {},
   "outputs": [
    {
     "data": {
      "text/plain": [
       "'95% : [110.55608365158724; 125.64391634841274]'"
      ]
     },
     "execution_count": 36,
     "metadata": {},
     "output_type": "execute_result"
    }
   ],
   "source": [
    "iq = np.array([131, 125, 115, 122, 131, 115, 107, 99, 125, 111])\n",
    "def create_confidence_interval_t(x, a, k, sigm, n): \n",
    "    t = stats.t.ppf(1 - a/2, k)\n",
    "    res1 = x - (t*sigm)/np.sqrt(n)\n",
    "    res2 = x + (t*sigm)/np.sqrt(n)\n",
    "    return f'95% : [{res1}; {res2}]'\n",
    "sigm = np.std(iq, ddof = 1)\n",
    "a = 0.05\n",
    "x = np.mean(iq)\n",
    "n = len(iq)\n",
    "k = n-1\n",
    "create_confidence_interval_t(x, a, k, sigm, n)"
   ]
  },
  {
   "cell_type": "markdown",
   "id": "f19cf4fa",
   "metadata": {},
   "source": [
    "# Задача 3\n",
    "Известно, что рост футболистов в сборной распределен нормально с дисперсией генеральной совокупности, равной 25 кв.см. Объем выборки равен 27, среднее выборочное составляет 174.2. Найдите доверительный интервал для математического ожидания с надежностью 0.95."
   ]
  },
  {
   "cell_type": "code",
   "execution_count": 37,
   "id": "5f9e4d0b",
   "metadata": {},
   "outputs": [
    {
     "data": {
      "text/plain": [
       "'95% : [172.3140237765397; 176.08597622346028]'"
      ]
     },
     "execution_count": 37,
     "metadata": {},
     "output_type": "execute_result"
    }
   ],
   "source": [
    "def create_confidence_interval_z(hx, a, sigm, n): \n",
    "    z = stats.norm.ppf(1 - (a/2)) \n",
    "    res1 = hx - (z*sigm)/np.sqrt(n)\n",
    "    res2 = hx + (z*sigm)/np.sqrt(n)\n",
    "    return f'95% : [{res1}; {res2}]'\n",
    "var = 25\n",
    "sigm = np.sqrt(var)\n",
    "n = 27\n",
    "hx = 174.2 \n",
    "a = 0.05\n",
    "create_confidence_interval_z(hx, a, sigm, n)"
   ]
  },
  {
   "cell_type": "code",
   "execution_count": null,
   "id": "492cec02",
   "metadata": {},
   "outputs": [],
   "source": []
  }
 ],
 "metadata": {
  "kernelspec": {
   "display_name": "Python 3 (ipykernel)",
   "language": "python",
   "name": "python3"
  },
  "language_info": {
   "codemirror_mode": {
    "name": "ipython",
    "version": 3
   },
   "file_extension": ".py",
   "mimetype": "text/x-python",
   "name": "python",
   "nbconvert_exporter": "python",
   "pygments_lexer": "ipython3",
   "version": "3.9.13"
  }
 },
 "nbformat": 4,
 "nbformat_minor": 5
}
