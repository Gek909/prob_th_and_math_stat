{
 "cells": [
  {
   "cell_type": "code",
   "execution_count": 2,
   "id": "d5530eda",
   "metadata": {},
   "outputs": [],
   "source": [
    "import numpy as np\n",
    "from scipy import stats"
   ]
  },
  {
   "cell_type": "markdown",
   "id": "fa5efb48",
   "metadata": {},
   "source": [
    "# Задача 1\n",
    "\n",
    "Известно, что генеральная совокупность распределена нормально со средним квадратическим отклонением, равным 16.\n",
    "\n",
    "Найти доверительный интервал для оценки математического ожидания a с надежностью 0.95, если выборочная средняя M = 80, а объем выборки n = 256."
   ]
  },
  {
   "cell_type": "code",
   "execution_count": 3,
   "id": "95489cac",
   "metadata": {},
   "outputs": [],
   "source": [
    "def create_confidence_interval_z(x, a, sigm, n): \n",
    "    z = stats.norm.ppf(1 - (a/2)) \n",
    "    res1 = x - (z*sigm)/np.sqrt(n)\n",
    "    res2 = x + (z*sigm)/np.sqrt(n)\n",
    "    return f'95% : [{res1}; {res2}]'\n",
    "    "
   ]
  },
  {
   "cell_type": "code",
   "execution_count": 4,
   "id": "702d4f6f",
   "metadata": {},
   "outputs": [
    {
     "data": {
      "text/plain": [
       "'95% : [78.04003601545995; 81.95996398454005]'"
      ]
     },
     "execution_count": 4,
     "metadata": {},
     "output_type": "execute_result"
    }
   ],
   "source": [
    "sigm = 16\n",
    "a = 0.05\n",
    "x = 80\n",
    "n = 256\n",
    "\n",
    "create_confidence_interval_z(x, a, sigm, n)"
   ]
  },
  {
   "cell_type": "markdown",
   "id": "634a5d69",
   "metadata": {},
   "source": [
    "# Задача 2\n",
    "\n",
    "В результате 10 независимых измерений некоторой величины X, выполненных с одинаковой точностью, получены опытные данные:\n",
    "\n",
    "6.9, 6.1, 6.2, 6.8, 7.5, 6.3, 6.4, 6.9, 6.7, 6.1\n",
    "\n",
    "Предполагая, что результаты измерений подчинены нормальному закону распределения вероятностей, оценить истинное значение величины X при помощи доверительного интервала, покрывающего это значение с доверительной вероятностью 0,95."
   ]
  },
  {
   "cell_type": "code",
   "execution_count": 5,
   "id": "5ce4af69",
   "metadata": {},
   "outputs": [
    {
     "data": {
      "text/plain": [
       "'95% : [6.267515851415713; 6.912484148584288]'"
      ]
     },
     "execution_count": 5,
     "metadata": {},
     "output_type": "execute_result"
    }
   ],
   "source": [
    "def create_confidence_interval_t(x, a, k, sigm, n): \n",
    "    t = stats.t.ppf(1 - a/2, k)\n",
    "    res1 = x - (t*sigm)/np.sqrt(n)\n",
    "    res2 = x + (t*sigm)/np.sqrt(n)\n",
    "    return f'95% : [{res1}; {res2}]'\n",
    "\n",
    "sel = np.array([6.9, 6.1, 6.2, 6.8, 7.5, 6.3, 6.4, 6.9, 6.7, 6.1])\n",
    "\n",
    "a = 0.05\n",
    "n = np.size(sel)\n",
    "k = n-1\n",
    "\n",
    "x = np.mean(sel)\n",
    "var = np.var(sel, ddof = 1)\n",
    "sigm = np.sqrt(var)\n",
    "\n",
    "create_confidence_interval_t(x, a, k, sigm, n)\n"
   ]
  },
  {
   "cell_type": "markdown",
   "id": "e4b7a454",
   "metadata": {},
   "source": [
    "#  Задача 3\n",
    "Рост дочерей 175, 167, 154, 174, 178, 148, 160, 167, 169, 170\n",
    "\n",
    "Рост матерей  178, 165, 165, 173, 168, 155, 160, 164, 178, 175\n",
    "\n",
    "Используя эти данные построить 95% доверительный интервал для разности среднего роста родителей и детей."
   ]
  },
  {
   "cell_type": "code",
   "execution_count": 6,
   "id": "c5f5d9f9",
   "metadata": {},
   "outputs": [],
   "source": [
    "x = np.array([175, 167, 154, 174, 178, 148, 160, 167, 169, 170])\n",
    "y = np.array([178, 165, 165, 173, 168, 155, 160, 164, 178, 175])\n",
    "\n",
    "n1 = np.size(x)\n",
    "n2 = np.size(y)\n",
    "\n",
    "x1 = np.mean(x)\n",
    "x2 = np.mean(y)"
   ]
  },
  {
   "cell_type": "code",
   "execution_count": 7,
   "id": "9d40d39f",
   "metadata": {},
   "outputs": [
    {
     "data": {
      "text/plain": [
       "1.9000000000000057"
      ]
     },
     "execution_count": 7,
     "metadata": {},
     "output_type": "execute_result"
    }
   ],
   "source": [
    "delta = x2-x1\n",
    "delta"
   ]
  },
  {
   "cell_type": "code",
   "execution_count": 8,
   "id": "6d2b3113",
   "metadata": {},
   "outputs": [
    {
     "data": {
      "text/plain": [
       "3.8880157750022915"
      ]
     },
     "execution_count": 8,
     "metadata": {},
     "output_type": "execute_result"
    }
   ],
   "source": [
    "var1 = np.var(x, ddof = 1)\n",
    "var2 = np.var(y, ddof = 1)\n",
    "var = (var1+var2)/2\n",
    "SE = np.sqrt((var/n1+var/n2))\n",
    "SE"
   ]
  },
  {
   "cell_type": "code",
   "execution_count": 13,
   "id": "feb66d4e",
   "metadata": {},
   "outputs": [],
   "source": [
    "a = 0.05\n",
    "k = 2*(n1-1)\n",
    "t = stats.t.ppf(1-a/2, k)"
   ]
  },
  {
   "cell_type": "code",
   "execution_count": 10,
   "id": "9f8de964",
   "metadata": {},
   "outputs": [
    {
     "data": {
      "text/plain": [
       "'95% : [-6.268418034506846; 10.068418034506857]'"
      ]
     },
     "execution_count": 10,
     "metadata": {},
     "output_type": "execute_result"
    }
   ],
   "source": [
    "def create_confidence_interval_for_diff(delta, t, SE):\n",
    "    res1 = delta - t * SE\n",
    "    res2 = delta + t * SE\n",
    "    return f'95% : [{res1}; {res2}]'\n",
    "\n",
    "create_confidence_interval_for_diff(delta, t, SE)"
   ]
  }
 ],
 "metadata": {
  "kernelspec": {
   "display_name": "Python 3 (ipykernel)",
   "language": "python",
   "name": "python3"
  },
  "language_info": {
   "codemirror_mode": {
    "name": "ipython",
    "version": 3
   },
   "file_extension": ".py",
   "mimetype": "text/x-python",
   "name": "python",
   "nbconvert_exporter": "python",
   "pygments_lexer": "ipython3",
   "version": "3.9.13"
  }
 },
 "nbformat": 4,
 "nbformat_minor": 5
}
