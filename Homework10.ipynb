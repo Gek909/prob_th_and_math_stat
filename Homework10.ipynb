{
 "cells": [
  {
   "cell_type": "code",
   "execution_count": 11,
   "metadata": {},
   "outputs": [],
   "source": [
    "import numpy as np\n",
    "from scipy import stats\n",
    "from statsmodels.stats.multicomp import pairwise_tukeyhsd"
   ]
  },
  {
   "attachments": {},
   "cell_type": "markdown",
   "metadata": {},
   "source": [
    "# Задание 1\n",
    "Провести дисперсионный анализ для определения того, есть ли различия среднего роста среди взрослых футболистов, хоккеистов и штангистов.\n",
    "\n",
    "Даны значения роста в трех группах случайно выбранных спортсменов:\n",
    "\n",
    "Футболисты: 173, 175, 180, 178, 177, 185, 183, 182.\n",
    "\n",
    "Хоккеисты: 177, 179, 180, 188, 177, 172, 171, 184, 180.\n",
    "\n",
    "Штангисты: 172, 173, 169, 177, 166, 180, 178, 177, 172, 166, 170."
   ]
  },
  {
   "cell_type": "code",
   "execution_count": 8,
   "metadata": {},
   "outputs": [],
   "source": [
    "foots = np.array([173, 175, 180, 178, 177, 185, 183, 182])\n",
    "\n",
    "hockeys = np.array([177, 179, 180, 188, 177, 172, 171, 184, 180])\n",
    "\n",
    "lifters = np.array([172, 173, 169, 177, 166, 180, 178, 177, 172, 166, 170])"
   ]
  },
  {
   "attachments": {},
   "cell_type": "markdown",
   "metadata": {},
   "source": [
    "# Проверка на нормальность и однородность дисперсий:"
   ]
  },
  {
   "cell_type": "code",
   "execution_count": 9,
   "metadata": {},
   "outputs": [
    {
     "name": "stdout",
     "output_type": "stream",
     "text": [
      "ShapiroResult(statistic=0.9775082468986511, pvalue=0.9495404362678528)\n",
      "ShapiroResult(statistic=0.9579196572303772, pvalue=0.7763139009475708)\n",
      "ShapiroResult(statistic=0.9386808276176453, pvalue=0.5051165223121643)\n"
     ]
    },
    {
     "data": {
      "text/plain": [
       "BartlettResult(statistic=0.4640521043406442, pvalue=0.7929254656083131)"
      ]
     },
     "execution_count": 9,
     "metadata": {},
     "output_type": "execute_result"
    }
   ],
   "source": [
    "print(stats.shapiro(foots))\n",
    "print(stats.shapiro(hockeys))\n",
    "print(stats.shapiro(lifters))\n",
    "stats.bartlett(foots, hockeys, lifters)\n"
   ]
  },
  {
   "attachments": {},
   "cell_type": "markdown",
   "metadata": {},
   "source": [
    "Т.к. соблюдаются условия применимости дисперсионоого анализа (pvalue>a), проведем однофакторный дисперсионный анализ: "
   ]
  },
  {
   "cell_type": "code",
   "execution_count": 10,
   "metadata": {},
   "outputs": [
    {
     "data": {
      "text/plain": [
       "F_onewayResult(statistic=5.500053450812596, pvalue=0.010482206918698693)"
      ]
     },
     "execution_count": 10,
     "metadata": {},
     "output_type": "execute_result"
    }
   ],
   "source": [
    "stats.f_oneway(foots, hockeys, lifters)"
   ]
  },
  {
   "attachments": {},
   "cell_type": "markdown",
   "metadata": {},
   "source": [
    "pvalue малое - стат. значимые различия есть. Найдем их с помощью post hoc теста. Так как размер выборок разный, добавим средние значения для соблюдения равенства длин массивов:"
   ]
  },
  {
   "cell_type": "code",
   "execution_count": 27,
   "metadata": {},
   "outputs": [
    {
     "name": "stdout",
     "output_type": "stream",
     "text": [
      "         Multiple Comparison of Means - Tukey HSD, FWER=0.05         \n",
      "=====================================================================\n",
      "    group1         group2     meandiff p-adj   lower    upper  reject\n",
      "---------------------------------------------------------------------\n",
      "   footballers hockey players  -0.4583 0.9675  -5.0687   4.152  False\n",
      "   footballers  weightlifters  -6.3977  0.005 -11.0081 -1.7874   True\n",
      "hockey players  weightlifters  -5.9394 0.0094 -10.5497 -1.3291   True\n",
      "---------------------------------------------------------------------\n"
     ]
    }
   ],
   "source": [
    "footsmean = np.mean(foots)\n",
    "new_foots = np.append(foots, [footsmean] * 3)\n",
    "hockeysmean = np.mean(hockeys)\n",
    "new_hockeys = np.append(hockeys,[hockeysmean] * 2)\n",
    "\n",
    "\n",
    "height = np.concatenate([new_foots, new_hockeys, lifters])\n",
    "names = np.repeat(['footballers', 'hockey players', 'weightlifters'], repeats = 11)\n",
    "tukey_test = pairwise_tukeyhsd(endog=height,\n",
    "                            groups=names,\n",
    "                            alpha = 0.05)\n",
    "print(tukey_test)"
   ]
  },
  {
   "attachments": {},
   "cell_type": "markdown",
   "metadata": {},
   "source": [
    "# Вывод\n",
    "В результате пост хок теста были обнаружены стат. значимые различия между ростом футболистов и штангистов и между ростом хоккеистов и штангистов"
   ]
  }
 ],
 "metadata": {
  "kernelspec": {
   "display_name": "Python 3",
   "language": "python",
   "name": "python3"
  },
  "language_info": {
   "codemirror_mode": {
    "name": "ipython",
    "version": 3
   },
   "file_extension": ".py",
   "mimetype": "text/x-python",
   "name": "python",
   "nbconvert_exporter": "python",
   "pygments_lexer": "ipython3",
   "version": "3.11.1"
  },
  "orig_nbformat": 4
 },
 "nbformat": 4,
 "nbformat_minor": 2
}
