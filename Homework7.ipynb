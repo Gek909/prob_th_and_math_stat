{
 "cells": [
  {
   "cell_type": "code",
   "execution_count": 1,
   "id": "94f05a91",
   "metadata": {},
   "outputs": [],
   "source": [
    "import numpy as np\n",
    "from scipy import stats\n"
   ]
  },
  {
   "cell_type": "markdown",
   "id": "a713702d",
   "metadata": {},
   "source": [
    "# Задача 1\n",
    "Выбрать тест и проверить, есть  ли различия между выборками:\n",
    "\n",
    "Даны две  независимые выборки. Не соблюдается условие нормальности\n",
    "\n",
    "x1: 380,420, 290\n",
    "\n",
    "y1: 140,360,200,900\n",
    "\n",
    "Сделайте вывод по результатам, полученным с помощью функции"
   ]
  },
  {
   "cell_type": "code",
   "execution_count": 2,
   "id": "ea8ee142",
   "metadata": {},
   "outputs": [
    {
     "data": {
      "text/plain": [
       "MannwhitneyuResult(statistic=8.0, pvalue=0.6285714285714286)"
      ]
     },
     "execution_count": 2,
     "metadata": {},
     "output_type": "execute_result"
    }
   ],
   "source": [
    "x = np.array([380, 420, 290])\n",
    "y = np.array([140, 360, 200, 900])\n",
    "stats.mannwhitneyu(x,y)"
   ]
  },
  {
   "cell_type": "markdown",
   "id": "d0d8569d",
   "metadata": {},
   "source": [
    "pvalue > α ==> Статистически значимые различия отсутствуют. Гипотеза верна при α = 0.05"
   ]
  },
  {
   "cell_type": "markdown",
   "id": "c55d2f51",
   "metadata": {},
   "source": [
    "# Задача 2\n",
    "Исследовалось влияние препарата на уровень давления пациентов. Сначала измерялось давление до приема препарата, потом через 10 минут и через 30 минут. Есть ли статистически значимые различия?\n",
    "\n",
    "1е измерение до приема препарата: 150, 160, 165, 145, 155\n",
    "\n",
    "2е измерение через 10 минут: 140, 155, 150,  130, 135\n",
    "\n",
    "3е измерение через 30 минут: 130, 130, 120, 130, 125"
   ]
  },
  {
   "cell_type": "code",
   "execution_count": 3,
   "id": "c7a1617d",
   "metadata": {},
   "outputs": [
    {
     "data": {
      "text/plain": [
       "FriedmanchisquareResult(statistic=9.578947368421062, pvalue=0.00831683351100441)"
      ]
     },
     "execution_count": 3,
     "metadata": {},
     "output_type": "execute_result"
    }
   ],
   "source": [
    "pr1 = np.array([150, 160, 165, 145, 155])\n",
    "pr2 = np.array([140, 155, 150, 130, 135])\n",
    "pr3 = np.array([130, 130, 120, 130, 125])\n",
    "stats.friedmanchisquare(pr1, pr2, pr3)"
   ]
  },
  {
   "cell_type": "markdown",
   "id": "382fa038",
   "metadata": {},
   "source": [
    "pvalue < α ==> Имеются статистически значимые различия, нулевая гипотеза отвергается. Расчеты верны при α = 0.05. "
   ]
  },
  {
   "cell_type": "markdown",
   "id": "19c1224e",
   "metadata": {},
   "source": [
    "# 3 задача\n",
    "Сравните 1 и 2 е измерения, предполагая, что 3го измерения через 30 минут не было."
   ]
  },
  {
   "cell_type": "code",
   "execution_count": 4,
   "id": "7f894fdc",
   "metadata": {},
   "outputs": [
    {
     "data": {
      "text/plain": [
       "WilcoxonResult(statistic=0.0, pvalue=0.0625)"
      ]
     },
     "execution_count": 4,
     "metadata": {},
     "output_type": "execute_result"
    }
   ],
   "source": [
    "pres1 = np.array([150, 160, 165, 145, 155])\n",
    "pres2 = np.array([140, 155, 150, 130, 135])\n",
    "stats.wilcoxon(pres1, pres2)"
   ]
  },
  {
   "cell_type": "markdown",
   "id": "809f0efb",
   "metadata": {},
   "source": [
    "pvalue > α ==> Статистически значимые различия отсутствуют. Гипотеза верна при α = 0.05"
   ]
  },
  {
   "cell_type": "markdown",
   "id": "feec112f",
   "metadata": {},
   "source": [
    "# 4 задача\n",
    "Даны 3 группы  учеников плавания. Сделайте вывод по различиям.\n",
    "\n",
    "В 1 группе время на дистанцию 50 м составляют:\n",
    "\n",
    "56, 60, 62, 55, 71, 67, 59, 58, 64, 67\n",
    "\n",
    "Вторая группа : 57, 58, 69, 48, 72, 70, 68, 71, 50, 53\n",
    "\n",
    "Третья группа: 57, 67, 49, 48, 47, 55, 66, 51, 54"
   ]
  },
  {
   "cell_type": "code",
   "execution_count": 5,
   "id": "bb2ab060",
   "metadata": {},
   "outputs": [
    {
     "data": {
      "text/plain": [
       "KruskalResult(statistic=5.465564058257224, pvalue=0.0650380998590494)"
      ]
     },
     "execution_count": 5,
     "metadata": {},
     "output_type": "execute_result"
    }
   ],
   "source": [
    "t_gr1 = np.array([56, 60, 62, 55, 71, 67, 59, 58, 64, 67])\n",
    "t_gr2 = np.array([57, 58, 69, 48, 72, 70, 68, 71, 50, 53])\n",
    "t_gr3 = np.array([57, 67, 49, 48, 47, 55, 66, 51, 54])\n",
    "stats.kruskal(t_gr1, t_gr2, t_gr3)"
   ]
  },
  {
   "cell_type": "markdown",
   "id": "13213dc5",
   "metadata": {},
   "source": [
    "pvalue > α ==> Статистически значимые различия отсутствуют. Гипотеза верна при α = 0.05"
   ]
  },
  {
   "cell_type": "markdown",
   "id": "f62b502c",
   "metadata": {},
   "source": [
    "# Задача 5\n",
    "Заявляется, что партия изготавливается со средним арифметическим 2,5 см. Проверить данную гипотезу, если известно, что размеры изделий подчинены нормальному закону распределения. Объем выборки 10, уровень статистической значимости 5%\n",
    "\n",
    "2.51, 2.35, 2.74, 2.56, 2.40, 2.36, 2.65, 2.7, 2.67, 2.34\n",
    "\n",
    "- a = 0.05\n",
    "- n = 10\n",
    "- μ1 = 2.5\n",
    "\n",
    "h(0): μ0 = μ1 h(1): μ0 ≠ μ1\n"
   ]
  },
  {
   "cell_type": "code",
   "execution_count": 39,
   "id": "5d29d84a",
   "metadata": {},
   "outputs": [
    {
     "name": "stdout",
     "output_type": "stream",
     "text": [
      "T(набл): 0.5630613661802959, T(табл): 2.2621571627409915\n"
     ]
    }
   ],
   "source": [
    "x = np.array([2.51, 2.35, 2.74, 2.56, 2.40, 2.36, 2.65, 2.7, 2.67, 2.34])\n",
    "u = np.mean(x)\n",
    "a = 0.05\n",
    "n = np.size(x)\n",
    "k = n-1\n",
    "u1 = 2.5\n",
    "tempsum = 0\n",
    "for i in range(0, n):\n",
    "    temp = (x[i] - u)**2\n",
    "    tempsum += temp\n",
    "var = tempsum/(n-1)\n",
    "std = np.sqrt(var)\n",
    "t_obs = (u - u1)/(std/np.sqrt(n))   \n",
    "\n",
    "t_tabl = stats.t.ppf(1-a/2, k)\n",
    "print(f'T(набл): {t_obs}, T(табл): {t_tabl}')"
   ]
  },
  {
   "cell_type": "markdown",
   "id": "dd279fe8",
   "metadata": {},
   "source": [
    "Вывод: t наблюдаемое < t табличное, значит принимаем гипотезу H0. Расчеты верны при a = 0.05"
   ]
  }
 ],
 "metadata": {
  "kernelspec": {
   "display_name": "Python 3 (ipykernel)",
   "language": "python",
   "name": "python3"
  },
  "language_info": {
   "codemirror_mode": {
    "name": "ipython",
    "version": 3
   },
   "file_extension": ".py",
   "mimetype": "text/x-python",
   "name": "python",
   "nbconvert_exporter": "python",
   "pygments_lexer": "ipython3",
   "version": "3.9.13"
  }
 },
 "nbformat": 4,
 "nbformat_minor": 5
}
