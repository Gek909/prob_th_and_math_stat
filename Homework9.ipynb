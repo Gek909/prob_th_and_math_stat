{
 "cells": [
  {
   "cell_type": "code",
   "execution_count": 1,
   "metadata": {},
   "outputs": [],
   "source": [
    "import numpy as np\n",
    "from scipy import stats\n",
    "import matplotlib.pyplot as plt\n",
    "from sklearn.linear_model import LinearRegression"
   ]
  },
  {
   "attachments": {},
   "cell_type": "markdown",
   "metadata": {},
   "source": [
    "# Задача 1\n",
    "Даны значения величины заработной платы заемщиков банка (zp) и значения их поведенческого кредитного скоринга (ks): zp = [35, 45, 190, 200, 40, 70, 54, 150, 120, 110], ks = [401, 574, 874, 919, 459, 739, 653, 902, 746, 832]. Используя математические операции, посчитать коэффициенты линейной регрессии, приняв за X заработную плату (то есть, zp - признак), а за y - значения скорингового балла (то есть, ks - целевая переменная). Произвести расчет как с использованием intercept, так и без."
   ]
  },
  {
   "cell_type": "code",
   "execution_count": 2,
   "metadata": {},
   "outputs": [],
   "source": [
    "zp = np.array([35, 45, 190, 200, 40, 70, 54, 150, 120, 110])\n",
    "ks = np.array([401, 574, 874, 919, 459, 739, 653, 902, 746, 832])\n",
    "x0 = zp.reshape(10,1)\n",
    "y0 = ks.reshape(10,1)"
   ]
  },
  {
   "attachments": {},
   "cell_type": "markdown",
   "metadata": {},
   "source": [
    "# Матричный метод:"
   ]
  },
  {
   "attachments": {},
   "cell_type": "markdown",
   "metadata": {},
   "source": [
    "Расчет без интерсепта:"
   ]
  },
  {
   "cell_type": "code",
   "execution_count": 3,
   "metadata": {},
   "outputs": [
    {
     "name": "stdout",
     "output_type": "stream",
     "text": [
      "coef B1 = [[5.88982042]]\n"
     ]
    }
   ],
   "source": [
    "B0 = np.dot(np.linalg.inv(np.dot(x0.T, x0)), x0.T @ y0)\n",
    "print(f'coef B1 = {B0}')"
   ]
  },
  {
   "attachments": {},
   "cell_type": "markdown",
   "metadata": {},
   "source": [
    "Расчет с интерсептом:"
   ]
  },
  {
   "cell_type": "code",
   "execution_count": 4,
   "metadata": {},
   "outputs": [
    {
     "name": "stdout",
     "output_type": "stream",
     "text": [
      "coef B0 = [444.17735732]\n",
      "coef B1 = [2.62053888]\n"
     ]
    }
   ],
   "source": [
    "x1 = zp.reshape(10,1)\n",
    "y1 = ks.reshape(10,1)\n",
    "x1 = np.hstack([np.ones((10,1)), x1])\n",
    "B1 = np.dot(np.linalg.inv(np.dot(x1.T, x1)), x1.T @ y1)\n",
    "print(f'coef B0 = {B1[0]}\\ncoef B1 = {B1[1]}') "
   ]
  },
  {
   "attachments": {},
   "cell_type": "markdown",
   "metadata": {},
   "source": [
    "# Линейная регрессия в python"
   ]
  },
  {
   "attachments": {},
   "cell_type": "markdown",
   "metadata": {},
   "source": [
    "Расчет без интерсепта"
   ]
  },
  {
   "cell_type": "code",
   "execution_count": 9,
   "metadata": {},
   "outputs": [
    {
     "name": "stdout",
     "output_type": "stream",
     "text": [
      "coef B1 = [5.88982042]\n",
      "ks_pred = [ 206.1437147   265.04191891 1119.06587983 1177.96408403  235.59281681\n",
      "  412.28742941  318.05030269  883.47306302  706.77845042  647.88024621]\n"
     ]
    }
   ],
   "source": [
    "model = LinearRegression(fit_intercept = False)\n",
    "x2 = zp.reshape(-1,1)\n",
    "y2 = ks\n",
    "regres = model.fit(x2,y2)\n",
    "print((f'coef B1 = {regres.coef_}'))\n",
    "print(f'ks_pred = {model.predict(x2)}')\n"
   ]
  },
  {
   "cell_type": "markdown",
   "metadata": {},
   "source": [
    "Расчет с использованием интерсепта:"
   ]
  },
  {
   "cell_type": "code",
   "execution_count": 15,
   "metadata": {},
   "outputs": [
    {
     "name": "stdout",
     "output_type": "stream",
     "text": [
      "coef B1 = [2.62053888]\n",
      "coef B0 = 444.17735732435943\n",
      "coef of determ = 0.7876386635293686\n",
      "ks_pred = [535.89621821 562.10160703 942.07974498 968.2851338  548.99891262\n",
      " 627.61507909 585.68645697 837.25818968 758.64202321 732.43663439]\n"
     ]
    }
   ],
   "source": [
    "model = LinearRegression()\n",
    "x3 = zp.reshape(-1,1)\n",
    "y3 = ks\n",
    "regres = model.fit(x3,y3)\n",
    "print((f'coef B1 = {regres.coef_}'))\n",
    "print((f'coef B0 = {regres.intercept_}'))\n",
    "print(f'coef of determ = {regres.score(x3,y3)}')\n",
    "print(f'ks_pred = {model.predict(x3)}')\n"
   ]
  },
  {
   "attachments": {},
   "cell_type": "markdown",
   "metadata": {},
   "source": [
    "# Задача 2\n",
    "Посчитать коэффициент линейной регрессии при заработной плате (zp), используя градиентный спуск (без intercept)."
   ]
  },
  {
   "cell_type": "code",
   "execution_count": 18,
   "metadata": {},
   "outputs": [
    {
     "name": "stdout",
     "output_type": "stream",
     "text": [
      "Iteration = 0, B1 = 0.25952808, mse = 493237.7212546963\n",
      "Iteration = 1000, B1 = 5.8898204201285544, mse = 56516.85841571941\n",
      "Iteration = 2000, B1 = 5.889820420132673, mse = 56516.85841571943\n",
      "Iteration = 3000, B1 = 5.889820420132673, mse = 56516.85841571943\n",
      "Iteration = 4000, B1 = 5.889820420132673, mse = 56516.85841571943\n",
      "Iteration = 5000, B1 = 5.889820420132673, mse = 56516.85841571943\n",
      "Iteration = 6000, B1 = 5.889820420132673, mse = 56516.85841571943\n",
      "Iteration = 7000, B1 = 5.889820420132673, mse = 56516.85841571943\n",
      "Iteration = 8000, B1 = 5.889820420132673, mse = 56516.85841571943\n",
      "Iteration = 9000, B1 = 5.889820420132673, mse = 56516.85841571943\n"
     ]
    },
    {
     "data": {
      "text/plain": [
       "56516.85841571943"
      ]
     },
     "execution_count": 18,
     "metadata": {},
     "output_type": "execute_result"
    }
   ],
   "source": [
    "x4 = zp\n",
    "y4 = ks\n",
    "def mse_0(B2, y = y4, x = x4, n = 10):\n",
    "    return np.sum((B2*x - y)**2)/ n\n",
    "\n",
    "alpha = 1e-6\n",
    "B2 = 0.1\n",
    "n = 10\n",
    "\n",
    "for i in range (10000):\n",
    "    B2 -= alpha * (2/n) * np.sum((B2 * x4 - y4) * x4)\n",
    "    if i % 1000 == 0:\n",
    "        print('Iteration = {i}, B1 = {B2}, mse = {mse}'.format(i = i, B2 = B2, mse = mse_0(B2)))\n",
    "\n",
    "mse_0(5.889820420132673)"
   ]
  },
  {
   "attachments": {},
   "cell_type": "markdown",
   "metadata": {},
   "source": [
    "mse_0 с вычисленным коэффициентом B1 равно вычисленной методом градиентного спуска среднеквадратичной ошибке, что означает, что коэффициент B1 найден и равен 5.889820420132673."
   ]
  },
  {
   "attachments": {},
   "cell_type": "markdown",
   "metadata": {},
   "source": [
    "# Задача 3\n",
    "Произвести вычисления как в пункте 2, но с вычислением intercept. Учесть, что изменение коэффициентов должно производиться на каждом шаге одновременно (то есть изменение одного коэффициента не должно влиять на изменение другого во время одной итерации)."
   ]
  },
  {
   "cell_type": "code",
   "execution_count": 19,
   "metadata": {},
   "outputs": [
    {
     "name": "stdout",
     "output_type": "stream",
     "text": [
      "Iteration = 0, B1 = 1.6932528000000004, B0 = 1.0139752 mse = 298048.6147072246\n",
      "Iteration = 500000, B1 = 2.8786708142810835, B0 = 409.1071906848261 mse = 6782.400882201799\n",
      "Iteration = 1000000, B1 = 2.6409678260049785, B0 = 441.4018523677044 mse = 6472.368290489661\n",
      "Iteration = 1500000, B1 = 2.6221556592721194, B0 = 443.9576997492018 mse = 6470.4264403691495\n",
      "Iteration = 2000000, B1 = 2.6206668365199826, B0 = 444.159973298368 mse = 6470.414277835301\n",
      "Iteration = 2500000, B1 = 2.6205490088811496, B0 = 444.1759815267904 mse = 6470.414201656803\n",
      "Iteration = 3000000, B1 = 2.620539683827264, B0 = 444.1772484417021 mse = 6470.414201179663\n",
      "Iteration = 3500000, B1 = 2.6205389458287, B0 = 444.1773487072231 mse = 6470.414201176676\n",
      "Iteration = 4000000, B1 = 2.6205388874224873, B0 = 444.1773566423731 mse = 6470.414201176661\n",
      "Iteration = 4500000, B1 = 2.6205388828011134, B0 = 444.1773572702395 mse = 6470.414201176661\n"
     ]
    },
    {
     "data": {
      "text/plain": [
       "6470.414201176661"
      ]
     },
     "execution_count": 19,
     "metadata": {},
     "output_type": "execute_result"
    }
   ],
   "source": [
    "x5 = zp\n",
    "y5 = ks\n",
    "def mse_1(B3, B4, y = y5, x = x5, n = 10):\n",
    "    return np.sum(((B3*x + B4) - y)**2)/ n\n",
    "\n",
    "alpha = 1e-5\n",
    "B3 = 0.1\n",
    "B4 = 1\n",
    "n = 10\n",
    "\n",
    "for i in range (5000000):\n",
    "    B3_temp = (2/n) * np.sum(((B3 * x5 + B4) - y5) * x5)\n",
    "    B4_temp = (2/n) * np.sum(((B3 * x5 + B4) - y5))\n",
    "    B3 -= alpha * B3_temp\n",
    "    B4 -= alpha * B4_temp\n",
    "    if i % 500000 == 0:\n",
    "        print('Iteration = {i}, B1 = {B3}, B0 = {B4} mse = {mse}'.format(i = i, B3 = B3, B4 = B4, mse = mse_1(B3, B4)))\n",
    "\n",
    "mse_1(2.6205388828011134, 444.1773572702395)"
   ]
  },
  {
   "attachments": {},
   "cell_type": "markdown",
   "metadata": {},
   "source": [
    "mse_1 с вычисленными коэффициентами B1 и B0 равно вычисленной методом градиентного спуска среднеквадратичной ошибке, что означает, что коэффициенты B1 и B0 найдены и равены 2.6205388828011134 и 444.1773572702395 соответственно."
   ]
  }
 ],
 "metadata": {
  "kernelspec": {
   "display_name": "Python 3",
   "language": "python",
   "name": "python3"
  },
  "language_info": {
   "codemirror_mode": {
    "name": "ipython",
    "version": 3
   },
   "file_extension": ".py",
   "mimetype": "text/x-python",
   "name": "python",
   "nbconvert_exporter": "python",
   "pygments_lexer": "ipython3",
   "version": "3.11.1"
  },
  "orig_nbformat": 4
 },
 "nbformat": 4,
 "nbformat_minor": 2
}
